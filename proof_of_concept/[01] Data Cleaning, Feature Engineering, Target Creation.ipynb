{
 "cells": [
  {
   "cell_type": "code",
   "execution_count": 68,
   "id": "b80517ee",
   "metadata": {},
   "outputs": [],
   "source": [
    "import numpy as np\n",
    "import pandas as pd\n",
    "import datetime as dt\n",
    "import re\n",
    "import os\n",
    "from pykalman import KalmanFilter\n",
    "from sklearn.base import BaseEstimator, TransformerMixin\n",
    "from sklearn.preprocessing import PolynomialFeatures\n",
    "from pandas.tseries.offsets import BDay\n",
    "from sklearn.preprocessing import StandardScaler\n",
    "from scipy.signal import savgol_filter\n",
    "from sklearn.ensemble import IsolationForest\n",
    "import matplotlib.pyplot as plt\n",
    "import seaborn as sns\n",
    "import sys\n",
    "sys.path.append('..')"
   ]
  },
  {
   "cell_type": "code",
   "execution_count": 71,
   "id": "aa0ba3ea",
   "metadata": {},
   "outputs": [],
   "source": [
    "import src.dax_utils as utils"
   ]
  },
  {
   "cell_type": "code",
   "execution_count": 73,
   "id": "6c40989a",
   "metadata": {},
   "outputs": [],
   "source": [
    "try:\n",
    "    df = pd.read_csv('../db/raw.csv', index_col=0, header=[0,1], parse_dates=[0])\n",
    "except FileNotFoundError:\n",
    "    print('Check notebook 00')"
   ]
  },
  {
   "cell_type": "code",
   "execution_count": 13,
   "id": "5380a030",
   "metadata": {},
   "outputs": [],
   "source": [
    "# # 5, 10, or 20 - \n",
    "# Kelly criterion - MACD, Bollinger Bands, ATR - \n",
    "# Fundamental Data: Include fundamental data such as economic indicators (e.g., unemployment rates, GDP growth) - \n",
    "#     rolling correlation\n",
    "# volume\n",
    "# limit interactions"
   ]
  },
  {
   "cell_type": "markdown",
   "id": "4f993bad",
   "metadata": {},
   "source": [
    "### Constants"
   ]
  },
  {
   "cell_type": "code",
   "execution_count": 19,
   "id": "e80cf8b4",
   "metadata": {},
   "outputs": [
    {
     "data": {
      "text/plain": [
       "'BASE_FEATURE_SET'"
      ]
     },
     "execution_count": 19,
     "metadata": {},
     "output_type": "execute_result"
    }
   ],
   "source": [
    "'base_feature_set'.upper()"
   ]
  },
  {
   "cell_type": "code",
   "execution_count": 20,
   "id": "3b1fded9",
   "metadata": {},
   "outputs": [],
   "source": [
    "BASE_OF_TARGET_COLUMN = 'close_gdaxi'\n",
    "BASE_FEATURE_SET = ['low_bnd', 'low_gld', 'low_ief', 'low_spy', 'low_gdaxi', 'high_bnd',\n",
    "       'high_gld', 'high_ief', 'high_spy', 'high_gdaxi', 'open_bnd',\n",
    "       'open_gld', 'open_ief', 'open_spy', 'open_gdaxi', 'volume_bnd',\n",
    "       'volume_gld', 'volume_ief', 'volume_spy', 'volume_gdaxi', 'close_bnd',\n",
    "       'close_gld', 'close_ief', 'close_spy', 'close_gdaxi']"
   ]
  },
  {
   "cell_type": "markdown",
   "id": "f1712f04",
   "metadata": {},
   "source": [
    "### Raw data cleaning"
   ]
  },
  {
   "cell_type": "code",
   "execution_count": 74,
   "id": "b5758796",
   "metadata": {},
   "outputs": [
    {
     "name": "stderr",
     "output_type": "stream",
     "text": [
      "C:\\Users\\applepy\\AppData\\Roaming\\Python\\Python311\\site-packages\\pandas\\core\\internals\\blocks.py:393: RuntimeWarning: divide by zero encountered in log\n",
      "  result = func(self.values, **kwargs)\n"
     ]
    }
   ],
   "source": [
    "api_data_transformer = utils.RawDataToReturns()\n",
    "df = api_data_transformer.transform(df)"
   ]
  },
  {
   "cell_type": "code",
   "execution_count": 93,
   "id": "4ca42e66",
   "metadata": {},
   "outputs": [
    {
     "data": {
      "text/plain": [
       "-0.002313"
      ]
     },
     "execution_count": 93,
     "metadata": {},
     "output_type": "execute_result"
    }
   ],
   "source": [
    "-0.002722 +  0.000409"
   ]
  },
  {
   "cell_type": "code",
   "execution_count": 97,
   "id": "f1bb5a62",
   "metadata": {},
   "outputs": [
    {
     "data": {
      "text/plain": [
       "2010-01-05   -0.021686\n",
       "2010-01-06   -0.009224\n",
       "2010-01-07   -0.030762\n",
       "2010-01-08   -0.046308\n",
       "2010-01-11   -0.058363\n",
       "                ...   \n",
       "2024-05-27   -0.010510\n",
       "2024-05-28         NaN\n",
       "2024-05-29         NaN\n",
       "2024-05-30         NaN\n",
       "2024-05-31         NaN\n",
       "Freq: B, Name: close_gdaxi, Length: 3759, dtype: float64"
      ]
     },
     "execution_count": 97,
     "metadata": {},
     "output_type": "execute_result"
    }
   ],
   "source": [
    "indexer = pd.api.indexers.FixedForwardWindowIndexer(window_size=10)\n",
    "df['close_gdaxi'].rolling(window=indexer, min_periods=5).sum()"
   ]
  },
  {
   "cell_type": "code",
   "execution_count": 91,
   "id": "cd7a88bf",
   "metadata": {},
   "outputs": [
    {
     "data": {
      "text/plain": [
       "2010-01-05   -0.002722\n",
       "2010-01-06    0.000409\n",
       "2010-01-07   -0.002484\n",
       "2010-01-08    0.003027\n",
       "2010-01-11    0.000479\n",
       "                ...   \n",
       "2024-05-27    0.004342\n",
       "2024-05-28   -0.005171\n",
       "2024-05-29   -0.011014\n",
       "2024-05-30    0.001271\n",
       "2024-05-31    0.000062\n",
       "Freq: B, Name: close_gdaxi, Length: 3759, dtype: float64"
      ]
     },
     "execution_count": 91,
     "metadata": {},
     "output_type": "execute_result"
    }
   ],
   "source": []
  }
 ],
 "metadata": {
  "kernelspec": {
   "display_name": "Python 3 (ipykernel)",
   "language": "python",
   "name": "python3"
  },
  "language_info": {
   "codemirror_mode": {
    "name": "ipython",
    "version": 3
   },
   "file_extension": ".py",
   "mimetype": "text/x-python",
   "name": "python",
   "nbconvert_exporter": "python",
   "pygments_lexer": "ipython3",
   "version": "3.11.4"
  }
 },
 "nbformat": 4,
 "nbformat_minor": 5
}
